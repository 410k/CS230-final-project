{
 "cells": [
  {
   "cell_type": "code",
   "execution_count": 1,
   "metadata": {},
   "outputs": [
    {
     "name": "stderr",
     "output_type": "stream",
     "text": [
      "/Users/granty/anaconda3/lib/python3.6/site-packages/h5py/__init__.py:36: FutureWarning: Conversion of the second argument of issubdtype from `float` to `np.floating` is deprecated. In future, it will be treated as `np.float64 == np.dtype(float).type`.\n",
      "  from ._conv import register_converters as _register_converters\n",
      "Using TensorFlow backend.\n"
     ]
    }
   ],
   "source": [
    "# simple encoder - decoder example\n",
    "import numpy as np\n",
    "from numpy import array\n",
    "from keras.models import Sequential\n",
    "from keras.layers import Dense\n",
    "from keras.layers import LSTM\n",
    "from keras.layers import RepeatVector\n",
    "from keras.layers import Bidirectional\n",
    "from keras.layers import TimeDistributed\n",
    "import scipy.io as io\n",
    "import scipy.misc\n",
    "from matplotlib.pyplot import imshow, plot, show"
   ]
  },
  {
   "cell_type": "code",
   "execution_count": 60,
   "metadata": {},
   "outputs": [
    {
     "name": "stdout",
     "output_type": "stream",
     "text": [
      "(126, 11025)\n",
      "(126, 100, 176)\n"
     ]
    }
   ],
   "source": [
    "# load data \n",
    "mat_contents = io.loadmat('/Users/granty/Data/CS230_train/keras_ex5.mat')\n",
    "Xin = mat_contents['X']\n",
    "Yout = mat_contents['Yout']\n",
    "num_samples, X_t, num_notes = Xin.shape\n",
    "Y_t = Yout.shape[1]\n",
    "print(Yout.shape)\n",
    "print(Xin.shape)\n",
    "X_train = Xin.reshape(num_samples,X_t,num_notes)\n",
    "Y_train = Yout.reshape(num_samples,Y_t,1)"
   ]
  },
  {
   "cell_type": "code",
   "execution_count": 63,
   "metadata": {},
   "outputs": [
    {
     "data": {
      "text/plain": [
       "[<matplotlib.lines.Line2D at 0x182140b208>]"
      ]
     },
     "execution_count": 63,
     "metadata": {},
     "output_type": "execute_result"
    },
    {
     "data": {
      "image/png": "[encoded data removed]",
      "text/plain": [
       "<matplotlib.figure.Figure at 0x181f995d30>"
      ]
     },
     "metadata": {},
     "output_type": "display_data"
    }
   ],
   "source": [
    "plot(Y_train[100][:].flatten())"
   ]
  },
  {
   "cell_type": "code",
   "execution_count": 122,
   "metadata": {},
   "outputs": [],
   "source": [
    "def bidi_LSTM(X_t, num_notes, Y_t ):\n",
    "    # define bidirectional LSTM configuration\n",
    "    n_neurons_encoder = 100 # refers to size of Memory matrices (can be anything)\n",
    "    n_neurons_decoder = 10\n",
    "    intermediate_layer = 500;\n",
    "\n",
    "    # create LSTM\n",
    "    model = Sequential()\n",
    "    # encoder\n",
    "    model.add(Bidirectional(LSTM(n_neurons_encoder,return_sequences = True),input_shape = (X_t,num_notes)))\n",
    "    model.add(Bidirectional(LSTM(n_neurons_encoder,return_sequences = True),input_shape = (X_t,n_neurons_encoder)))\n",
    "    model.add(Bidirectional(LSTM(n_neurons_encoder)))\n",
    "    model.add(RepeatVector(intermediate_layer))\n",
    "    # decoder\n",
    "    model.add(Bidirectional(LSTM(n_neurons_decoder, return_sequences = True), input_shape=(Y_t/2,n_neurons_decoder)))\n",
    "    model.add(Bidirectional(LSTM(n_neurons_decoder)))\n",
    "    model.add(RepeatVector(Y_t))\n",
    "    model.add(Bidirectional(LSTM(n_neurons_decoder, return_sequences = True), input_shape=(Y_t,n_neurons_decoder)))\n",
    "    model.add(TimeDistributed(Dense(1)))\n",
    "\n",
    "    return model"
   ]
  },
  {
   "cell_type": "code",
   "execution_count": 123,
   "metadata": {},
   "outputs": [
    {
     "name": "stdout",
     "output_type": "stream",
     "text": [
      "_________________________________________________________________\n",
      "Layer (type)                 Output Shape              Param #   \n",
      "=================================================================\n",
      "bidirectional_54 (Bidirectio (None, 100, 200)          221600    \n",
      "_________________________________________________________________\n",
      "bidirectional_55 (Bidirectio (None, 100, 200)          240800    \n",
      "_________________________________________________________________\n",
      "bidirectional_56 (Bidirectio (None, 200)               240800    \n",
      "_________________________________________________________________\n",
      "repeat_vector_20 (RepeatVect (None, 500, 200)          0         \n",
      "_________________________________________________________________\n",
      "bidirectional_57 (Bidirectio (None, 500, 20)           16880     \n",
      "_________________________________________________________________\n",
      "bidirectional_58 (Bidirectio (None, 20)                2480      \n",
      "_________________________________________________________________\n",
      "repeat_vector_21 (RepeatVect (None, 11025, 20)         0         \n",
      "_________________________________________________________________\n",
      "bidirectional_59 (Bidirectio (None, 11025, 20)         2480      \n",
      "_________________________________________________________________\n",
      "time_distributed_12 (TimeDis (None, 11025, 1)          21        \n",
      "=================================================================\n",
      "Total params: 725,061\n",
      "Trainable params: 725,061\n",
      "Non-trainable params: 0\n",
      "_________________________________________________________________\n",
      "None\n"
     ]
    }
   ],
   "source": [
    "model = bidi_LSTM(X_t,num_notes,Y_t)\n",
    "model.compile(loss='mean_squared_error', optimizer='adam')\n",
    "print(model.summary())"
   ]
  },
  {
   "cell_type": "code",
   "execution_count": 118,
   "metadata": {},
   "outputs": [
    {
     "name": "stdout",
     "output_type": "stream",
     "text": [
      "Epoch 1/3\n",
      "126/126 [==============================] - 195s 2s/step - loss: 0.0106\n",
      "Epoch 2/3\n",
      "126/126 [==============================] - 190s 2s/step - loss: 0.0103\n",
      "Epoch 3/3\n",
      "126/126 [==============================] - 189s 2s/step - loss: 0.0102\n"
     ]
    },
    {
     "data": {
      "text/plain": [
       "<keras.callbacks.History at 0x185517a9b0>"
      ]
     },
     "execution_count": 118,
     "metadata": {},
     "output_type": "execute_result"
    }
   ],
   "source": [
    "n_batch = 20 # number of training examples \n",
    "n_epoch = 3\n",
    "#print(model.summary())\n",
    "# train LSTM\n",
    "model.fit(X_train, Y_train, epochs=n_epoch, batch_size=n_batch)\n",
    "# evaluate\n"
   ]
  },
  {
   "cell_type": "code",
   "execution_count": 119,
   "metadata": {},
   "outputs": [],
   "source": [
    "# evaluate \n",
    "result = model.predict(X_train, batch_size=n_batch)\n",
    "#print(result)"
   ]
  },
  {
   "cell_type": "code",
   "execution_count": 121,
   "metadata": {},
   "outputs": [
    {
     "name": "stdout",
     "output_type": "stream",
     "text": [
      "(126, 11025, 1)\n"
     ]
    },
    {
     "data": {
      "text/plain": [
       "[<matplotlib.lines.Line2D at 0x184d82b208>]"
      ]
     },
     "execution_count": 121,
     "metadata": {},
     "output_type": "execute_result"
    },
    {
     "data": {
      "image/png": "[encoded data removed]",
      "text/plain": [
       "<matplotlib.figure.Figure at 0x1856839ac8>"
      ]
     },
     "metadata": {},
     "output_type": "display_data"
    }
   ],
   "source": [
    "print(result.shape)\n",
    "plot(result[50][1:200])\n",
    "#plot(Y_train[100][1:100])"
   ]
  },
  {
   "cell_type": "raw",
   "metadata": {},
   "source": []
  },
  {
   "cell_type": "code",
   "execution_count": 41,
   "metadata": {},
   "outputs": [
    {
     "name": "stdout",
     "output_type": "stream",
     "text": [
      "0.0107055197050432\n",
      "[-0.0141605  -0.01431329 -0.01438704 -0.01441133 -0.01440697]\n"
     ]
    }
   ],
   "source": [
    "print(np.sum((result.flatten()-Y_train.flatten())**2)/44100)\n",
    "print(result.flatten()[10:15])"
   ]
  },
  {
   "cell_type": "code",
   "execution_count": null,
   "metadata": {},
   "outputs": [],
   "source": []
  }
 ],
 "metadata": {
  "kernelspec": {
   "display_name": "Python 3",
   "language": "python",
   "name": "python3"
  },
  "language_info": {
   "codemirror_mode": {
    "name": "ipython",
    "version": 3
   },
   "file_extension": ".py",
   "mimetype": "text/x-python",
   "name": "python",
   "nbconvert_exporter": "python",
   "pygments_lexer": "ipython3",
   "version": "3.6.4"
  }
 },
 "nbformat": 4,
 "nbformat_minor": 2
}
