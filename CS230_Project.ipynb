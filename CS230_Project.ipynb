{
 "cells": [
  {
   "cell_type": "code",
   "execution_count": 1,
   "metadata": {},
   "outputs": [
    {
     "name": "stderr",
     "output_type": "stream",
     "text": [
      "/Users/granty/anaconda3/lib/python3.6/site-packages/h5py/__init__.py:36: FutureWarning: Conversion of the second argument of issubdtype from `float` to `np.floating` is deprecated. In future, it will be treated as `np.float64 == np.dtype(float).type`.\n",
      "  from ._conv import register_converters as _register_converters\n",
      "Using TensorFlow backend.\n"
     ]
    }
   ],
   "source": [
    "# simple bidirectional LSTM for audio synthesis from pitch and rhythm\n",
    "import numpy as np\n",
    "from numpy import array\n",
    "from keras.models import Sequential\n",
    "from keras.layers import GRU\n",
    "from keras.layers import StackedRNNCells\n",
    "from keras.models import load_model\n",
    "from keras.layers import Dense\n",
    "from keras.layers import LSTM\n",
    "from keras.layers import RepeatVector\n",
    "from keras.layers import Bidirectional\n",
    "from keras.layers import TimeDistributed\n",
    "from keras.layers import UpSampling1D\n",
    "from keras.layers import Conv1D\n",
    "from keras.layers import BatchNormalization\n",
    "from keras.layers import Activation\n",
    "from keras import optimizers\n",
    "from scipy.io.wavfile import write\n",
    "import scipy.io as io\n",
    "import scipy.misc\n",
    "from matplotlib.pyplot import imshow, plot, show"
   ]
  },
  {
   "cell_type": "code",
   "execution_count": 2,
   "metadata": {},
   "outputs": [
    {
     "name": "stdout",
     "output_type": "stream",
     "text": [
      "(2065, 80, 176)\n",
      "(2065, 80, 400)\n",
      "(10, 80, 176)\n",
      "(10, 80, 400)\n"
     ]
    }
   ],
   "source": [
    "# load data \n",
    "mat_contents = io.loadmat('/Users/granty/Data/CS230_train/8kHz_dt05_keras_all.mat')\n",
    "Xin = mat_contents['Xall']\n",
    "Yout = mat_contents['Yall']\n",
    "num_samples, X_t, num_notes = Xin.shape\n",
    "Y_t = Yout.shape[1]\n",
    "#print(Yout.shape)\n",
    "#print(Xin.shape)\n",
    "X_train = Xin[0:num_samples-20,:,:]\n",
    "Y_train = Yout[0:num_samples-20,:,:]\n",
    "X_test = Xin[num_samples-10:num_samples,:,:]\n",
    "Y_test = Yout[num_samples-10:num_samples,:,:]\n",
    "num_samples, X_t, num_notes = X_train.shape\n",
    "Y_t = Y_train.shape[1]\n",
    "# X(number of training examples, time steps (0.05s), 176 features (88 keys x Articulation, sustain ))\n",
    "# Y(number of training examples, time steps (0.05s), audio samples ( 8kHz))\n",
    "print(X_train.shape)\n",
    "print(Y_train.shape)\n",
    "print(X_test.shape)\n",
    "print(Y_test.shape)"
   ]
  },
  {
   "cell_type": "code",
   "execution_count": 3,
   "metadata": {},
   "outputs": [
    {
     "data": {
      "text/plain": [
       "[<matplotlib.lines.Line2D at 0x10b41d898>]"
      ]
     },
     "execution_count": 3,
     "metadata": {},
     "output_type": "execute_result"
    },
    {
     "data": {
      "image/png": "[encoded data removed]",
      "text/plain": [
       "<matplotlib.figure.Figure at 0x10c792470>"
      ]
     },
     "metadata": {},
     "output_type": "display_data"
    }
   ],
   "source": [
    "plot(Y_train[120][:].flatten())"
   ]
  },
  {
   "cell_type": "code",
   "execution_count": 26,
   "metadata": {},
   "outputs": [],
   "source": [
    "def bidi_LSTM(X_t, num_notes, Y_t ):\n",
    "    # define bidirectional LSTM configuration\n",
    "    n_neurons_encoder = 128 # refers to size of Memory matrices (can be anything)\n",
    "    # create LSTM\n",
    "    model = Sequential()\n",
    "    # encoder\n",
    "    model.add(Bidirectional(GRU(n_neurons_encoder,return_sequences = True),input_shape=(X_t, num_notes)))\n",
    "    model.add(Bidirectional(GRU(n_neurons_encoder,return_sequences = True),batch_input_shape = (n_neurons_encoder, n_neurons_encoder)))\n",
    "    model.add(TimeDistributed(Dense(400, activation=None)))\n",
    "    return model"
   ]
  },
  {
   "cell_type": "code",
   "execution_count": 27,
   "metadata": {},
   "outputs": [
    {
     "name": "stdout",
     "output_type": "stream",
     "text": [
      "_________________________________________________________________\n",
      "Layer (type)                 Output Shape              Param #   \n",
      "=================================================================\n",
      "bidirectional_9 (Bidirection (None, 80, 256)           234240    \n",
      "_________________________________________________________________\n",
      "bidirectional_10 (Bidirectio (None, 80, 256)           295680    \n",
      "_________________________________________________________________\n",
      "time_distributed_2 (TimeDist (None, 80, 400)           102800    \n",
      "=================================================================\n",
      "Total params: 632,720\n",
      "Trainable params: 632,720\n",
      "Non-trainable params: 0\n",
      "_________________________________________________________________\n",
      "None\n"
     ]
    }
   ],
   "source": [
    "# compile model\n",
    "model = bidi_LSTM(X_t,num_notes,Y_t)\n",
    "opt = optimizers.Adam(lr=0.001)\n",
    "model.compile(loss='mean_squared_error', optimizer=opt)\n",
    "print(model.summary())"
   ]
  },
  {
   "cell_type": "code",
   "execution_count": 49,
   "metadata": {},
   "outputs": [
    {
     "name": "stdout",
     "output_type": "stream",
     "text": [
      "Epoch 1/50\n",
      "2065/2065 [==============================] - 66s 32ms/step - loss: 0.0034\n",
      "Epoch 2/50\n",
      "2065/2065 [==============================] - 66s 32ms/step - loss: 0.0034\n",
      "Epoch 3/50\n",
      "2065/2065 [==============================] - 66s 32ms/step - loss: 0.0034\n",
      "Epoch 4/50\n",
      "2065/2065 [==============================] - 66s 32ms/step - loss: 0.0034\n",
      "Epoch 5/50\n",
      "2065/2065 [==============================] - 66s 32ms/step - loss: 0.0034\n",
      "Epoch 6/50\n",
      "2065/2065 [==============================] - 67s 33ms/step - loss: 0.0034\n",
      "Epoch 7/50\n",
      "2065/2065 [==============================] - 67s 33ms/step - loss: 0.0034\n",
      "Epoch 8/50\n",
      "2065/2065 [==============================] - 67s 33ms/step - loss: 0.0034\n",
      "Epoch 9/50\n",
      "2065/2065 [==============================] - 69s 33ms/step - loss: 0.0034\n",
      "Epoch 10/50\n",
      "2065/2065 [==============================] - 67s 32ms/step - loss: 0.0034\n",
      "Epoch 11/50\n",
      "2065/2065 [==============================] - 66s 32ms/step - loss: 0.0034\n",
      "Epoch 12/50\n",
      "2065/2065 [==============================] - 66s 32ms/step - loss: 0.0034\n",
      "Epoch 13/50\n",
      "2065/2065 [==============================] - 66s 32ms/step - loss: 0.0034\n",
      "Epoch 14/50\n",
      "2065/2065 [==============================] - 69s 33ms/step - loss: 0.0034\n",
      "Epoch 15/50\n",
      "2065/2065 [==============================] - 66s 32ms/step - loss: 0.0034\n",
      "Epoch 16/50\n",
      "2065/2065 [==============================] - 66s 32ms/step - loss: 0.0034\n",
      "Epoch 17/50\n",
      "2065/2065 [==============================] - 67s 33ms/step - loss: 0.0034\n",
      "Epoch 18/50\n",
      "2065/2065 [==============================] - 69s 33ms/step - loss: 0.0034\n",
      "Epoch 19/50\n",
      "2065/2065 [==============================] - 69s 33ms/step - loss: 0.0034\n",
      "Epoch 20/50\n",
      "2065/2065 [==============================] - 67s 33ms/step - loss: 0.0033\n",
      "Epoch 21/50\n",
      "2065/2065 [==============================] - 70s 34ms/step - loss: 0.0033\n",
      "Epoch 22/50\n",
      "2065/2065 [==============================] - 69s 33ms/step - loss: 0.0034\n",
      "Epoch 23/50\n",
      "2065/2065 [==============================] - 70s 34ms/step - loss: 0.0034\n",
      "Epoch 24/50\n",
      "2065/2065 [==============================] - 72s 35ms/step - loss: 0.0034\n",
      "Epoch 25/50\n",
      "2065/2065 [==============================] - 78s 38ms/step - loss: 0.0034\n",
      "Epoch 26/50\n",
      "2065/2065 [==============================] - 72s 35ms/step - loss: 0.0033\n",
      "Epoch 27/50\n",
      "2065/2065 [==============================] - 69s 33ms/step - loss: 0.0033\n",
      "Epoch 28/50\n",
      "2065/2065 [==============================] - 67s 32ms/step - loss: 0.0033\n",
      "Epoch 29/50\n",
      "2065/2065 [==============================] - 66s 32ms/step - loss: 0.0033\n",
      "Epoch 30/50\n",
      "2065/2065 [==============================] - 68s 33ms/step - loss: 0.0033\n",
      "Epoch 31/50\n",
      "2065/2065 [==============================] - 68s 33ms/step - loss: 0.0034\n",
      "Epoch 32/50\n",
      "2065/2065 [==============================] - 70s 34ms/step - loss: 0.0034\n",
      "Epoch 33/50\n",
      "2065/2065 [==============================] - 68s 33ms/step - loss: 0.0034\n",
      "Epoch 34/50\n",
      "2065/2065 [==============================] - 67s 32ms/step - loss: 0.0033\n",
      "Epoch 35/50\n",
      "2065/2065 [==============================] - 68s 33ms/step - loss: 0.0034\n",
      "Epoch 36/50\n",
      "2065/2065 [==============================] - 67s 33ms/step - loss: 0.0034\n",
      "Epoch 37/50\n",
      "2065/2065 [==============================] - 67s 33ms/step - loss: 0.0033\n",
      "Epoch 38/50\n",
      "2065/2065 [==============================] - 67s 32ms/step - loss: 0.0033\n",
      "Epoch 39/50\n",
      "2065/2065 [==============================] - 67s 32ms/step - loss: 0.0033\n",
      "Epoch 40/50\n",
      "2065/2065 [==============================] - 66s 32ms/step - loss: 0.0033\n",
      "Epoch 41/50\n",
      "2065/2065 [==============================] - 67s 32ms/step - loss: 0.0033\n",
      "Epoch 42/50\n",
      "2065/2065 [==============================] - 68s 33ms/step - loss: 0.0033\n",
      "Epoch 43/50\n",
      "2065/2065 [==============================] - 68s 33ms/step - loss: 0.0033\n",
      "Epoch 44/50\n",
      "2065/2065 [==============================] - 68s 33ms/step - loss: 0.0033\n",
      "Epoch 45/50\n",
      "2065/2065 [==============================] - 68s 33ms/step - loss: 0.0033\n",
      "Epoch 46/50\n",
      "2065/2065 [==============================] - 69s 33ms/step - loss: 0.0033\n",
      "Epoch 47/50\n",
      "2065/2065 [==============================] - 69s 33ms/step - loss: 0.0033\n",
      "Epoch 48/50\n",
      "2065/2065 [==============================] - 67s 32ms/step - loss: 0.0033\n",
      "Epoch 49/50\n",
      "2065/2065 [==============================] - 67s 32ms/step - loss: 0.0033\n",
      "Epoch 50/50\n",
      "2065/2065 [==============================] - 67s 32ms/step - loss: 0.0033\n"
     ]
    },
    {
     "data": {
      "text/plain": [
       "<keras.callbacks.History at 0x1886921f60>"
      ]
     },
     "execution_count": 49,
     "metadata": {},
     "output_type": "execute_result"
    }
   ],
   "source": [
    "n_batch = 10#num_samples-10 # number of training examples \n",
    "n_epoch = 50\n",
    "#print(model.summary())\n",
    "# train LSTM\n",
    "model.fit(X_train, Y_train, epochs=n_epoch, batch_size=n_batch)\n",
    "# evaluate\n"
   ]
  },
  {
   "cell_type": "code",
   "execution_count": 50,
   "metadata": {},
   "outputs": [],
   "source": [
    "# evaluate model on training and test data\n",
    "test_pred = model.predict(X_test, batch_size=n_batch)\n",
    "train_pred = model.predict(X_train, batch_size=n_batch)"
   ]
  },
  {
   "cell_type": "code",
   "execution_count": 59,
   "metadata": {},
   "outputs": [
    {
     "name": "stdout",
     "output_type": "stream",
     "text": [
      "(2065, 80, 400)\n",
      "(2065, 80, 400)\n"
     ]
    },
    {
     "data": {
      "text/plain": [
       "[<matplotlib.lines.Line2D at 0x184e92a2e8>]"
      ]
     },
     "execution_count": 59,
     "metadata": {},
     "output_type": "execute_result"
    },
    {
     "data": {
      "image/png": "[encoded data removed]",
      "text/plain": [
       "<matplotlib.figure.Figure at 0x1886c6ad68>"
      ]
     },
     "metadata": {},
     "output_type": "display_data"
    }
   ],
   "source": [
    "print(train_pred.shape)\n",
    "print(Y_train.shape)\n",
    "plot(Y_test[5,:,:].flatten())\n",
    "plot(test_pred[5,:,:].flatten())"
   ]
  },
  {
   "cell_type": "code",
   "execution_count": 54,
   "metadata": {},
   "outputs": [],
   "source": [
    "# save audio as mp3\n",
    "\n",
    "y_train_flattened = Y_train.reshape(Y_train.size,1)\n",
    "scaled = np.int16(y_train_flattened/np.max(np.abs(y_train_flattened))*32767)\n",
    "write('y_train.mp3',8000,scaled)\n",
    "\n",
    "y_test_flattened = Y_test.reshape(Y_test.size,1)\n",
    "scaled = np.int16(y_test_flattened/np.max(np.abs(y_test_flattened))*32767)\n",
    "write('y_test.mp3',8000,scaled)\n",
    "\n",
    "# evaluate train\n",
    "y_pred_train = model.predict(X_train, batch_size=n_batch)\n",
    "\n",
    "y_pred_flattened = y_pred_train.reshape(y_pred_train.size,1)\n",
    "scaled = np.int16(y_pred_flattened/np.max(np.abs(y_pred_flattened))*32767)\n",
    "write('y_pred_train.mp3',8000,scaled)\n",
    "\n",
    "# evaluate test\n",
    "y_pred_test = model.predict(X_test, batch_size=n_batch)\n",
    "\n",
    "y_pred_flattened = y_pred_test.reshape(y_pred_test.size,1)\n",
    "scaled = np.int16(y_pred_flattened/np.max(np.abs(y_pred_flattened))*32767)\n",
    "write('y_pred_test.mp3',8000,scaled)\n",
    "\n"
   ]
  },
  {
   "cell_type": "code",
   "execution_count": 104,
   "metadata": {},
   "outputs": [],
   "source": [
    "mat_contents = io.loadmat('/Users/granty/Data/CS230_train/8kHz_dt05_keras_ex4.mat')\n",
    "Xin = mat_contents['X']\n",
    "Yout = mat_contents['Yout']\n",
    "# evaluate train\n",
    "y_pred_test_ex4 = model.predict(Xin, batch_size=n_batch)\n",
    "\n",
    "y_pred_flattened = y_pred_test_ex4.reshape(y_pred_test_ex4.size,1)\n",
    "scaled = np.int16(y_pred_flattened/np.max(np.abs(y_pred_flattened))*32767)\n",
    "write('y_pred_test_ex4.mp3',8000,scaled)\n",
    "\n",
    "y_out_flattened = Yout.reshape(Yout.size,1)\n",
    "scaled = np.int16(y_out_flattened/np.max(np.abs(y_out_flattened))*32767)\n",
    "write('y_test_ex4.mp3',8000,scaled)"
   ]
  },
  {
   "cell_type": "code",
   "execution_count": 53,
   "metadata": {},
   "outputs": [],
   "source": [
    "# save model\n",
    "nmodel = 350\n",
    "filepath = 'run_full_epoch' + str(nmodel)\n",
    "model.save(filepath)"
   ]
  },
  {
   "cell_type": "code",
   "execution_count": null,
   "metadata": {},
   "outputs": [],
   "source": []
  }
 ],
 "metadata": {
  "kernelspec": {
   "display_name": "Python 3",
   "language": "python",
   "name": "python3"
  },
  "language_info": {
   "codemirror_mode": {
    "name": "ipython",
    "version": 3
   },
   "file_extension": ".py",
   "mimetype": "text/x-python",
   "name": "python",
   "nbconvert_exporter": "python",
   "pygments_lexer": "ipython3",
   "version": "3.6.4"
  }
 },
 "nbformat": 4,
 "nbformat_minor": 2
}
