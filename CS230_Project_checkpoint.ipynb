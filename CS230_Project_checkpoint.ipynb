{
 "cells": [
  {
   "cell_type": "code",
   "execution_count": 2,
   "metadata": {},
   "outputs": [
    {
     "name": "stderr",
     "output_type": "stream",
     "text": [
      "/Users/granty/anaconda3/lib/python3.6/site-packages/h5py/__init__.py:36: FutureWarning: Conversion of the second argument of issubdtype from `float` to `np.floating` is deprecated. In future, it will be treated as `np.float64 == np.dtype(float).type`.\n",
      "  from ._conv import register_converters as _register_converters\n",
      "Using TensorFlow backend.\n"
     ]
    }
   ],
   "source": [
    "# simple bidirectional LSTM for audio synthesis from pitch and rhythm\n",
    "import numpy as np\n",
    "from numpy import array\n",
    "from keras.models import Sequential\n",
    "from keras.layers import Dense\n",
    "from keras.layers import LSTM\n",
    "from keras.layers import RepeatVector\n",
    "from keras.layers import Bidirectional\n",
    "from keras.layers import TimeDistributed\n",
    "from keras.layers import UpSampling1D\n",
    "from keras.layers import Conv1D\n",
    "from keras.layers import BatchNormalization\n",
    "from keras.layers import Activation\n",
    "from scipy.io.wavfile import write\n",
    "import scipy.io as io\n",
    "import scipy.misc\n",
    "from matplotlib.pyplot import imshow, plot, show"
   ]
  },
  {
   "cell_type": "code",
   "execution_count": 115,
   "metadata": {},
   "outputs": [
    {
     "name": "stdout",
     "output_type": "stream",
     "text": [
      "(2065, 80, 176)\n",
      "(2065, 80, 400)\n",
      "(10, 80, 176)\n",
      "(10, 80, 400)\n"
     ]
    }
   ],
   "source": [
    "# load data \n",
    "mat_contents = io.loadmat('/Users/granty/Data/CS230_train/8kHz_dt05_keras_all.mat')\n",
    "Xin = mat_contents['Xall']\n",
    "Yout = mat_contents['Yall']\n",
    "num_samples, X_t, num_notes = Xin.shape\n",
    "Y_t = Yout.shape[1]\n",
    "#print(Yout.shape)\n",
    "#print(Xin.shape)\n",
    "X_train = Xin[0:num_samples-20,:,:]\n",
    "Y_train = Yout[0:num_samples-20,:,:]\n",
    "X_test = Xin[num_samples-10:num_samples,:,:]\n",
    "Y_test = Yout[num_samples-10:num_samples,:,:]\n",
    "num_samples, X_t, num_notes = X_train.shape\n",
    "Y_t = Y_train.shape[1]\n",
    "# X(number of training examples, time steps (0.05s), 176 features (88 keys x Articulation, sustain ))\n",
    "# Y(number of training examples, time steps (0.05s), audio samples ( 8kHz))\n",
    "print(X_train.shape)\n",
    "print(Y_train.shape)\n",
    "print(X_test.shape)\n",
    "print(Y_test.shape)"
   ]
  },
  {
   "cell_type": "code",
   "execution_count": 116,
   "metadata": {},
   "outputs": [
    {
     "data": {
      "text/plain": [
       "[<matplotlib.lines.Line2D at 0x1815c0e710>]"
      ]
     },
     "execution_count": 116,
     "metadata": {},
     "output_type": "execute_result"
    },
    {
     "data": {
      "image/png": "[encoded data removed]",
      "text/plain": [
       "<matplotlib.figure.Figure at 0x1815ee44e0>"
      ]
     },
     "metadata": {},
     "output_type": "display_data"
    }
   ],
   "source": [
    "plot(Y_train[120][:].flatten())"
   ]
  },
  {
   "cell_type": "code",
   "execution_count": 41,
   "metadata": {},
   "outputs": [],
   "source": [
    "def bidi_LSTM(X_t, num_notes, Y_t ):\n",
    "    # define bidirectional LSTM configuration\n",
    "    n_neurons_encoder = 128 # refers to size of Memory matrices (can be anything)\n",
    "    # create LSTM\n",
    "    model = Sequential()\n",
    "    # encoder\n",
    "    model.add(Bidirectional(LSTM(n_neurons_encoder,return_sequences = True),input_shape=(X_t, num_notes)))\n",
    "    model.add(Bidirectional(LSTM(n_neurons_encoder,return_sequences = True),batch_input_shape = (n_neurons_encoder, n_neurons_encoder)))\n",
    "    #model.add(Bidirectional(LSTM(n_neurons_encoder,return_sequences = True),batch_input_shape = (nbatch,n_neurons_encoder,n_neurons_encoder)))\n",
    "    model.add(TimeDistributed(Dense(400, activation=None)))\n",
    "\n",
    "    return model"
   ]
  },
  {
   "cell_type": "code",
   "execution_count": 42,
   "metadata": {},
   "outputs": [
    {
     "name": "stdout",
     "output_type": "stream",
     "text": [
      "_________________________________________________________________\n",
      "Layer (type)                 Output Shape              Param #   \n",
      "=================================================================\n",
      "bidirectional_5 (Bidirection (None, 80, 256)           312320    \n",
      "_________________________________________________________________\n",
      "bidirectional_6 (Bidirection (None, 80, 256)           394240    \n",
      "_________________________________________________________________\n",
      "time_distributed_3 (TimeDist (None, 80, 400)           102800    \n",
      "=================================================================\n",
      "Total params: 809,360\n",
      "Trainable params: 809,360\n",
      "Non-trainable params: 0\n",
      "_________________________________________________________________\n",
      "None\n"
     ]
    }
   ],
   "source": [
    "# compile model\n",
    "model = bidi_LSTM(X_t,num_notes,Y_t)\n",
    "model.compile(loss='mean_squared_error', optimizer='adam')\n",
    "print(model.summary())"
   ]
  },
  {
   "cell_type": "code",
   "execution_count": 123,
   "metadata": {},
   "outputs": [
    {
     "name": "stdout",
     "output_type": "stream",
     "text": [
      "Epoch 1/100\n",
      "2065/2065 [==============================] - 18s 9ms/step - loss: 0.0056\n",
      "Epoch 2/100\n",
      "2065/2065 [==============================] - 18s 9ms/step - loss: 0.0056\n",
      "Epoch 3/100\n",
      "2065/2065 [==============================] - 18s 9ms/step - loss: 0.0056\n",
      "Epoch 4/100\n",
      "2065/2065 [==============================] - 17s 8ms/step - loss: 0.0056\n",
      "Epoch 5/100\n",
      "2065/2065 [==============================] - 18s 9ms/step - loss: 0.0055\n",
      "Epoch 6/100\n",
      "2065/2065 [==============================] - 18s 9ms/step - loss: 0.0055\n",
      "Epoch 7/100\n",
      "2065/2065 [==============================] - 18s 8ms/step - loss: 0.0055\n",
      "Epoch 8/100\n",
      "2065/2065 [==============================] - 18s 9ms/step - loss: 0.0055\n",
      "Epoch 9/100\n",
      "2065/2065 [==============================] - 18s 9ms/step - loss: 0.0055\n",
      "Epoch 10/100\n",
      "2065/2065 [==============================] - 17s 8ms/step - loss: 0.0055\n",
      "Epoch 11/100\n",
      "2065/2065 [==============================] - 17s 8ms/step - loss: 0.0055\n",
      "Epoch 12/100\n",
      "2065/2065 [==============================] - 18s 9ms/step - loss: 0.0055\n",
      "Epoch 13/100\n",
      "2065/2065 [==============================] - 18s 9ms/step - loss: 0.0055\n",
      "Epoch 14/100\n",
      "2065/2065 [==============================] - 18s 9ms/step - loss: 0.0055\n",
      "Epoch 15/100\n",
      "2065/2065 [==============================] - 18s 9ms/step - loss: 0.0055\n",
      "Epoch 16/100\n",
      "2065/2065 [==============================] - 18s 9ms/step - loss: 0.0055\n",
      "Epoch 17/100\n",
      "2065/2065 [==============================] - 18s 9ms/step - loss: 0.0055\n",
      "Epoch 18/100\n",
      "2065/2065 [==============================] - 18s 9ms/step - loss: 0.0055\n",
      "Epoch 19/100\n",
      "2065/2065 [==============================] - 18s 9ms/step - loss: 0.0055\n",
      "Epoch 20/100\n",
      "2065/2065 [==============================] - 18s 9ms/step - loss: 0.0055\n",
      "Epoch 21/100\n",
      "2065/2065 [==============================] - 18s 9ms/step - loss: 0.0055\n",
      "Epoch 22/100\n",
      "2065/2065 [==============================] - 18s 9ms/step - loss: 0.0055\n",
      "Epoch 23/100\n",
      "2065/2065 [==============================] - 19s 9ms/step - loss: 0.0054\n",
      "Epoch 24/100\n",
      "2065/2065 [==============================] - 18s 9ms/step - loss: 0.0054\n",
      "Epoch 25/100\n",
      "2065/2065 [==============================] - 18s 9ms/step - loss: 0.0054\n",
      "Epoch 26/100\n",
      "2065/2065 [==============================] - 18s 9ms/step - loss: 0.0054\n",
      "Epoch 27/100\n",
      "2065/2065 [==============================] - 18s 9ms/step - loss: 0.0054\n",
      "Epoch 28/100\n",
      "2065/2065 [==============================] - 18s 9ms/step - loss: 0.0054\n",
      "Epoch 29/100\n",
      "2065/2065 [==============================] - 18s 9ms/step - loss: 0.0054\n",
      "Epoch 30/100\n",
      "2065/2065 [==============================] - 17s 8ms/step - loss: 0.0054\n",
      "Epoch 31/100\n",
      "2065/2065 [==============================] - 18s 9ms/step - loss: 0.0054\n",
      "Epoch 32/100\n",
      "2065/2065 [==============================] - 19s 9ms/step - loss: 0.0054\n",
      "Epoch 33/100\n",
      "2065/2065 [==============================] - 18s 9ms/step - loss: 0.0054\n",
      "Epoch 34/100\n",
      "2065/2065 [==============================] - 18s 9ms/step - loss: 0.0054\n",
      "Epoch 35/100\n",
      "2065/2065 [==============================] - 18s 9ms/step - loss: 0.0054\n",
      "Epoch 36/100\n",
      "2065/2065 [==============================] - 18s 9ms/step - loss: 0.0054\n",
      "Epoch 37/100\n",
      "2065/2065 [==============================] - 19s 9ms/step - loss: 0.0054\n",
      "Epoch 38/100\n",
      "2065/2065 [==============================] - 20s 10ms/step - loss: 0.0054\n",
      "Epoch 39/100\n",
      "2065/2065 [==============================] - 20s 10ms/step - loss: 0.0054\n",
      "Epoch 40/100\n",
      "2065/2065 [==============================] - 19s 9ms/step - loss: 0.0054\n",
      "Epoch 41/100\n",
      "2065/2065 [==============================] - 19s 9ms/step - loss: 0.0054\n",
      "Epoch 42/100\n",
      "2065/2065 [==============================] - 19s 9ms/step - loss: 0.0054\n",
      "Epoch 43/100\n",
      "2065/2065 [==============================] - 19s 9ms/step - loss: 0.0054\n",
      "Epoch 44/100\n",
      "2065/2065 [==============================] - 20s 10ms/step - loss: 0.0054\n",
      "Epoch 45/100\n",
      "2065/2065 [==============================] - 19s 9ms/step - loss: 0.0054\n",
      "Epoch 46/100\n",
      "2065/2065 [==============================] - 20s 10ms/step - loss: 0.0054\n",
      "Epoch 47/100\n",
      "2065/2065 [==============================] - 20s 9ms/step - loss: 0.0054\n",
      "Epoch 48/100\n",
      "2065/2065 [==============================] - 19s 9ms/step - loss: 0.0054\n",
      "Epoch 49/100\n",
      "2065/2065 [==============================] - 20s 10ms/step - loss: 0.0054\n",
      "Epoch 50/100\n",
      "2065/2065 [==============================] - 19s 9ms/step - loss: 0.0053\n",
      "Epoch 51/100\n",
      "2065/2065 [==============================] - 20s 10ms/step - loss: 0.0053\n",
      "Epoch 52/100\n",
      "2065/2065 [==============================] - 19s 9ms/step - loss: 0.0053\n",
      "Epoch 53/100\n",
      "2065/2065 [==============================] - 19s 9ms/step - loss: 0.0053\n",
      "Epoch 54/100\n",
      "2065/2065 [==============================] - 18s 9ms/step - loss: 0.0053\n",
      "Epoch 55/100\n",
      "2065/2065 [==============================] - 20s 10ms/step - loss: 0.0053\n",
      "Epoch 56/100\n",
      "2065/2065 [==============================] - 18s 9ms/step - loss: 0.0053\n",
      "Epoch 57/100\n",
      "2065/2065 [==============================] - 17s 8ms/step - loss: 0.0053\n",
      "Epoch 58/100\n",
      "2065/2065 [==============================] - 19s 9ms/step - loss: 0.0053\n",
      "Epoch 59/100\n",
      "2065/2065 [==============================] - 19s 9ms/step - loss: 0.0053\n",
      "Epoch 60/100\n",
      "2065/2065 [==============================] - 19s 9ms/step - loss: 0.0053\n",
      "Epoch 61/100\n",
      "2065/2065 [==============================] - 20s 10ms/step - loss: 0.0053\n",
      "Epoch 62/100\n",
      "2065/2065 [==============================] - 19s 9ms/step - loss: 0.0053\n",
      "Epoch 63/100\n",
      "2065/2065 [==============================] - 18s 9ms/step - loss: 0.0053\n",
      "Epoch 64/100\n",
      "2065/2065 [==============================] - 18s 9ms/step - loss: 0.0053\n",
      "Epoch 65/100\n",
      "2065/2065 [==============================] - 18s 9ms/step - loss: 0.0053\n",
      "Epoch 66/100\n",
      "2065/2065 [==============================] - 18s 9ms/step - loss: 0.0053\n",
      "Epoch 67/100\n",
      "2065/2065 [==============================] - 18s 9ms/step - loss: 0.0053\n",
      "Epoch 68/100\n",
      "2065/2065 [==============================] - 19s 9ms/step - loss: 0.0053\n",
      "Epoch 69/100\n",
      "2065/2065 [==============================] - 18s 9ms/step - loss: 0.0053\n",
      "Epoch 70/100\n",
      "2065/2065 [==============================] - 18s 9ms/step - loss: 0.0053\n",
      "Epoch 71/100\n",
      "2065/2065 [==============================] - 18s 9ms/step - loss: 0.0053\n",
      "Epoch 72/100\n",
      "2065/2065 [==============================] - 18s 9ms/step - loss: 0.0053\n",
      "Epoch 73/100\n",
      "2065/2065 [==============================] - 18s 9ms/step - loss: 0.0053\n",
      "Epoch 74/100\n",
      "2065/2065 [==============================] - 18s 9ms/step - loss: 0.0053\n",
      "Epoch 75/100\n",
      "2065/2065 [==============================] - 18s 9ms/step - loss: 0.0053\n",
      "Epoch 76/100\n",
      "2065/2065 [==============================] - 18s 9ms/step - loss: 0.0053\n",
      "Epoch 77/100\n",
      "2065/2065 [==============================] - 18s 9ms/step - loss: 0.0053\n",
      "Epoch 78/100\n",
      "2065/2065 [==============================] - 18s 9ms/step - loss: 0.0053\n",
      "Epoch 79/100\n",
      "2065/2065 [==============================] - 18s 9ms/step - loss: 0.0053\n",
      "Epoch 80/100\n",
      "2065/2065 [==============================] - 19s 9ms/step - loss: 0.0053\n",
      "Epoch 81/100\n",
      "2065/2065 [==============================] - 18s 9ms/step - loss: 0.0053\n",
      "Epoch 82/100\n",
      "2065/2065 [==============================] - 19s 9ms/step - loss: 0.0053\n",
      "Epoch 83/100\n",
      "2065/2065 [==============================] - 19s 9ms/step - loss: 0.0053\n",
      "Epoch 84/100\n",
      "2065/2065 [==============================] - 18s 9ms/step - loss: 0.0053\n",
      "Epoch 85/100\n",
      "2065/2065 [==============================] - 18s 9ms/step - loss: 0.0053\n",
      "Epoch 86/100\n",
      "2065/2065 [==============================] - 18s 9ms/step - loss: 0.0052\n",
      "Epoch 87/100\n",
      "2065/2065 [==============================] - 18s 9ms/step - loss: 0.0052\n",
      "Epoch 88/100\n",
      "2065/2065 [==============================] - 19s 9ms/step - loss: 0.0052\n",
      "Epoch 89/100\n",
      "2065/2065 [==============================] - 18s 9ms/step - loss: 0.0052\n",
      "Epoch 90/100\n",
      "2065/2065 [==============================] - 19s 9ms/step - loss: 0.0052\n",
      "Epoch 91/100\n",
      "2065/2065 [==============================] - 19s 9ms/step - loss: 0.0052\n",
      "Epoch 92/100\n",
      "2065/2065 [==============================] - 19s 9ms/step - loss: 0.0052\n",
      "Epoch 93/100\n",
      "2065/2065 [==============================] - 19s 9ms/step - loss: 0.0052\n",
      "Epoch 94/100\n",
      "2065/2065 [==============================] - 18s 9ms/step - loss: 0.0052\n",
      "Epoch 95/100\n",
      "2065/2065 [==============================] - 18s 9ms/step - loss: 0.0052\n",
      "Epoch 96/100\n"
     ]
    },
    {
     "name": "stdout",
     "output_type": "stream",
     "text": [
      "2065/2065 [==============================] - 19s 9ms/step - loss: 0.0052\n",
      "Epoch 97/100\n",
      "2065/2065 [==============================] - 18s 9ms/step - loss: 0.0052\n",
      "Epoch 98/100\n",
      "2065/2065 [==============================] - 19s 9ms/step - loss: 0.0052\n",
      "Epoch 99/100\n",
      "2065/2065 [==============================] - 18s 9ms/step - loss: 0.0052\n",
      "Epoch 100/100\n",
      "2065/2065 [==============================] - 18s 9ms/step - loss: 0.0052\n"
     ]
    },
    {
     "data": {
      "text/plain": [
       "<keras.callbacks.History at 0x1816151be0>"
      ]
     },
     "execution_count": 123,
     "metadata": {},
     "output_type": "execute_result"
    }
   ],
   "source": [
    "n_batch = 400#num_samples-10 # number of training examples \n",
    "n_epoch = 100\n",
    "#print(model.summary())\n",
    "# train LSTM\n",
    "model.fit(X_train[:,0:100,:], Y_train[:,0:100,:], epochs=n_epoch, batch_size=n_batch)\n",
    "# evaluate\n"
   ]
  },
  {
   "cell_type": "code",
   "execution_count": 120,
   "metadata": {},
   "outputs": [],
   "source": [
    "# evaluate model on training and test data\n",
    "test_pred = model.predict(X_test, batch_size=n_batch)\n",
    "train_pred = model.predict(X_train, batch_size=n_batch)"
   ]
  },
  {
   "cell_type": "code",
   "execution_count": 121,
   "metadata": {},
   "outputs": [
    {
     "name": "stdout",
     "output_type": "stream",
     "text": [
      "(2065, 80, 400)\n",
      "(2065, 80, 400)\n"
     ]
    },
    {
     "data": {
      "text/plain": [
       "[<matplotlib.lines.Line2D at 0x1816163eb8>]"
      ]
     },
     "execution_count": 121,
     "metadata": {},
     "output_type": "execute_result"
    },
    {
     "data": {
      "image/png": "[encoded data removed]",
      "text/plain": [
       "<matplotlib.figure.Figure at 0x1815c37a90>"
      ]
     },
     "metadata": {},
     "output_type": "display_data"
    }
   ],
   "source": [
    "print(train_pred.shape)\n",
    "print(Y_train.shape)\n",
    "\n",
    "plot(train_pred[3,15,:].flatten())\n",
    "plot(Y_train[3,15,:].flatten())\n"
   ]
  },
  {
   "cell_type": "code",
   "execution_count": 93,
   "metadata": {},
   "outputs": [],
   "source": [
    "# save audio as mp3\n",
    "\n",
    "y_train_flattened = Y_train.reshape(Y_train.size,1)\n",
    "scaled = np.int16(y_train_flattened/np.max(np.abs(y_train_flattened))*32767)\n",
    "write('y_train.mp3',8000,scaled)\n",
    "\n",
    "y_test_flattened = Y_test.reshape(Y_test.size,1)\n",
    "scaled = np.int16(y_test_flattened/np.max(np.abs(y_test_flattened))*32767)\n",
    "write('y_test.mp3',8000,scaled)\n",
    "\n",
    "# evaluate train\n",
    "y_pred_train = model.predict(X_train, batch_size=n_batch)\n",
    "\n",
    "y_pred_flattened = y_pred_train.reshape(y_pred_train.size,1)\n",
    "scaled = np.int16(y_pred_flattened/np.max(np.abs(y_pred_flattened))*32767)\n",
    "write('y_pred_train.mp3',8000,scaled)\n",
    "\n",
    "# evaluate test\n",
    "y_pred_test = model.predict(X_test, batch_size=n_batch)\n",
    "\n",
    "y_pred_flattened = y_pred_test.reshape(y_pred_test.size,1)\n",
    "scaled = np.int16(y_pred_flattened/np.max(np.abs(y_pred_flattened))*32767)\n",
    "write('y_pred_test.mp3',8000,scaled)\n",
    "\n"
   ]
  },
  {
   "cell_type": "code",
   "execution_count": 104,
   "metadata": {},
   "outputs": [],
   "source": [
    "mat_contents = io.loadmat('/Users/granty/Data/CS230_train/8kHz_dt05_keras_ex4.mat')\n",
    "Xin = mat_contents['X']\n",
    "Yout = mat_contents['Yout']\n",
    "# evaluate train\n",
    "y_pred_test_ex4 = model.predict(Xin, batch_size=n_batch)\n",
    "\n",
    "y_pred_flattened = y_pred_test_ex4.reshape(y_pred_test_ex4.size,1)\n",
    "scaled = np.int16(y_pred_flattened/np.max(np.abs(y_pred_flattened))*32767)\n",
    "write('y_pred_test_ex4.mp3',8000,scaled)\n",
    "\n",
    "y_out_flattened = Yout.reshape(Yout.size,1)\n",
    "scaled = np.int16(y_out_flattened/np.max(np.abs(y_out_flattened))*32767)\n",
    "write('y_test_ex4.mp3',8000,scaled)"
   ]
  },
  {
   "cell_type": "code",
   "execution_count": 122,
   "metadata": {},
   "outputs": [],
   "source": [
    "# save model\n",
    "nmodel = 100\n",
    "filepath = 'run_full_epoch' + str(nmodel)\n",
    "model.save(filepath)"
   ]
  },
  {
   "cell_type": "code",
   "execution_count": null,
   "metadata": {},
   "outputs": [],
   "source": []
  }
 ],
 "metadata": {
  "kernelspec": {
   "display_name": "Python 3",
   "language": "python",
   "name": "python3"
  },
  "language_info": {
   "codemirror_mode": {
    "name": "ipython",
    "version": 3
   },
   "file_extension": ".py",
   "mimetype": "text/x-python",
   "name": "python",
   "nbconvert_exporter": "python",
   "pygments_lexer": "ipython3",
   "version": "3.6.4"
  }
 },
 "nbformat": 4,
 "nbformat_minor": 2
}
